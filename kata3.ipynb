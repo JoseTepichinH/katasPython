{
 "cells": [
  {
   "cell_type": "markdown",
   "metadata": {},
   "source": [
    "# Problema 1\n"
   ]
  },
  {
   "cell_type": "code",
   "execution_count": 2,
   "metadata": {},
   "outputs": [
    {
     "name": "stdout",
     "output_type": "stream",
     "text": [
      "¡¡¡¡¡¡El asteroide va demasiado rapido!!!!!\n"
     ]
    }
   ],
   "source": [
    "asteroide2= 49\n",
    "if asteroide2 > 25:\n",
    "    print(\"¡¡¡¡¡¡El asteroide va demasiado rapido!!!!!\")\n",
    "else:\n",
    "    print(\"Todo esta bien\")"
   ]
  },
  {
   "cell_type": "code",
   "execution_count": null,
   "metadata": {},
   "outputs": [],
   "source": [
    "asteroide = input(\"Velocidad de asteroide\")\n",
    "asteroide2= float(asteroide)\n",
    "if asteroide2 > 25:\n",
    "    print(\"El asteroide va demasiado rapido\")\n",
    "else:\n",
    "    print(\"Todo esta bien\")"
   ]
  },
  {
   "cell_type": "markdown",
   "metadata": {},
   "source": [
    "# Problema 2"
   ]
  },
  {
   "cell_type": "code",
   "execution_count": 3,
   "metadata": {},
   "outputs": [
    {
     "name": "stdout",
     "output_type": "stream",
     "text": [
      "El asteroide se puede visualizar\n"
     ]
    }
   ],
   "source": [
    "asteroide2= 20\n",
    "if asteroide2 >= 20:\n",
    "    print(\"El asteroide se puede visualizar\")\n",
    "else:\n",
    "    print(\"Todo esta bien\")"
   ]
  },
  {
   "cell_type": "markdown",
   "metadata": {},
   "source": [
    "# Problema 3"
   ]
  },
  {
   "cell_type": "code",
   "execution_count": 4,
   "metadata": {},
   "outputs": [
    {
     "name": "stdout",
     "output_type": "stream",
     "text": [
      "todo esta normal\n"
     ]
    }
   ],
   "source": [
    "asteroide = input(\"Velocidad de asteroide\")\n",
    "asteroide2= float(asteroide)\n",
    "tamano_asteroide = 4000\n",
    "if asteroide2 > 25 and tamano_asteroide > 1000:\n",
    "    print(\"El asteroide va demasiado rapido y nos va aplastar a todos\")\n",
    "elif asteroide2 > 25 and tamano_asteroide > 25 and tamano_asteroide <= 1000:\n",
    "    print(\"Impacto inminente causara daño\")\n",
    "elif asteroide2 >= 20:\n",
    "    print(\"Se ve una luz en el cielo\")\n",
    "else:\n",
    "    print(\"todo esta normal\")"
   ]
  }
 ],
 "metadata": {
  "interpreter": {
   "hash": "69eb92836b941e979072a76c7fcfffe5419cca933cedd02cfafbdfca1a93358c"
  },
  "kernelspec": {
   "display_name": "Python 3.9.10 64-bit",
   "language": "python",
   "name": "python3"
  },
  "language_info": {
   "codemirror_mode": {
    "name": "ipython",
    "version": 3
   },
   "file_extension": ".py",
   "mimetype": "text/x-python",
   "name": "python",
   "nbconvert_exporter": "python",
   "pygments_lexer": "ipython3",
   "version": "3.9.10"
  },
  "orig_nbformat": 4
 },
 "nbformat": 4,
 "nbformat_minor": 2
}
